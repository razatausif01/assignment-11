{
  "cells": [
    {
      "cell_type": "markdown",
      "source": [
        "1.\tWrite a Python program to find words which are greater than given length k?\n",
        "2.\tWrite a Python program for removing i-th character from a string?\n",
        "3.\tWrite a Python program to split and join a string?\n",
        "4.\tWrite a Python to check if a given string is binary string or not?\n",
        "5.\tWrite a Python program to find uncommon words from two Strings?\n",
        "6.\tWrite a Python to find all duplicate characters in string?\n",
        "7.\tWrite a Python Program to check if a string contains any special character?\n"
      ],
      "metadata": {
        "id": "Rs2PJemcsKl_"
      },
      "id": "Rs2PJemcsKl_"
    },
    {
      "cell_type": "markdown",
      "id": "55f7db3a",
      "metadata": {
        "id": "55f7db3a"
      },
      "source": [
        "## Write a Python program to find words which are greater than given length k?"
      ]
    },
    {
      "cell_type": "code",
      "execution_count": null,
      "id": "9c9d57c8",
      "metadata": {
        "id": "9c9d57c8"
      },
      "outputs": [],
      "source": [
        "string1=input(\"Enter your sentences\")\n",
        "length=int(input(\"Enter your Length\"))\n",
        "\n",
        "lst=string1.split()\n",
        "for i in lst:\n",
        "    if(len(i)>length):\n",
        "        print(i)"
      ]
    },
    {
      "cell_type": "markdown",
      "id": "ccd698f6",
      "metadata": {
        "id": "ccd698f6"
      },
      "source": [
        "## Write a Python program for removing i-th character from a string?"
      ]
    },
    {
      "cell_type": "code",
      "execution_count": null,
      "id": "9d31aa2d",
      "metadata": {
        "id": "9d31aa2d"
      },
      "outputs": [],
      "source": [
        "string=input(\"Enter your string :-\")\n",
        "rem_ith=int(input(\"Enter your value to remove :-\"))\n",
        "\n",
        "first=string[0:rem_ith-1]\n",
        "second=string[rem_ith:]\n",
        "print(\"After removal of character :-\",first+second)"
      ]
    },
    {
      "cell_type": "markdown",
      "id": "71922b85",
      "metadata": {
        "id": "71922b85"
      },
      "source": [
        "## Write a Python program to split and join a string?"
      ]
    },
    {
      "cell_type": "code",
      "execution_count": null,
      "id": "c5d961f1",
      "metadata": {
        "id": "c5d961f1"
      },
      "outputs": [],
      "source": [
        "string=\" the first single from her upcoming studio album Special, slated to release this summer\"\n",
        "#list1=string.split(\",\")  #by denote , we pass the information split this string where (comma), is preffix\n",
        "list1=string.split()\n",
        "#'-'.join(list1)\n",
        "print(list1)"
      ]
    },
    {
      "cell_type": "markdown",
      "id": "15fb6b10",
      "metadata": {
        "id": "15fb6b10"
      },
      "source": [
        "## Python to check if a given string is binary string or not?"
      ]
    },
    {
      "cell_type": "code",
      "execution_count": null,
      "id": "1541827f",
      "metadata": {
        "id": "1541827f"
      },
      "outputs": [],
      "source": [
        "string1=input(\"Enter your binary string\")\n",
        "set1=set(string1)\n",
        "check={'1','0'}\n",
        "if(set1=='check' or set1=={'1'} or set1=={'2'}):\n",
        "    print(\"It is binary string\")    \n",
        "\n",
        "else:\n",
        "    print(\"It is not binary string\")\n",
        "    \n"
      ]
    },
    {
      "cell_type": "markdown",
      "id": "24ed9b06",
      "metadata": {
        "id": "24ed9b06"
      },
      "source": [
        "## Python program to find common words from two Strings"
      ]
    },
    {
      "cell_type": "code",
      "execution_count": null,
      "id": "aee8847f",
      "metadata": {
        "id": "aee8847f"
      },
      "outputs": [],
      "source": [
        "string1=input(\"Enter your first string\")\n",
        "string2=input(\"Enter your Second string\")\n",
        "\n",
        "lst1=string1.split()\n",
        "lst1=string2.split()\n",
        "\n",
        "for i in split1:\n",
        "    if i in split2:\n",
        "        print(i)"
      ]
    },
    {
      "cell_type": "markdown",
      "id": "fdc2562f",
      "metadata": {
        "id": "fdc2562f"
      },
      "source": [
        "## ## Python program to find uncommon words from two Strings"
      ]
    },
    {
      "cell_type": "code",
      "execution_count": null,
      "id": "0a4787e6",
      "metadata": {
        "id": "0a4787e6"
      },
      "outputs": [],
      "source": [
        "string1=input(\"Enter your first string\")\n",
        "string2=input(\"Enter your Second string\")\n",
        "\n",
        "list1=string1.split()\n",
        "list2=string1.split()\n",
        "\n",
        "for i in list1:\n",
        "    if i not in list2:\n",
        "        print([i],\"This is uncommon words in string\")"
      ]
    },
    {
      "cell_type": "markdown",
      "id": "fd7e2a7f",
      "metadata": {
        "id": "fd7e2a7f"
      },
      "source": [
        "##  Python to find all duplicate characters in string"
      ]
    },
    {
      "cell_type": "code",
      "execution_count": null,
      "id": "7165014b",
      "metadata": {
        "id": "7165014b"
      },
      "outputs": [],
      "source": [
        "str1=input(\"Enter your string\")\n",
        "result=\"\"\n",
        "for char in str1:\n",
        "    if char not in result:\n",
        "        result=result+char\n",
        "        print(\"String After removal :\",result)\n",
        "    "
      ]
    },
    {
      "cell_type": "code",
      "execution_count": null,
      "id": "97a16c3f",
      "metadata": {
        "id": "97a16c3f"
      },
      "outputs": [],
      "source": [
        "str2=input(\"Enter your string\") ## second method\n",
        "list2=[]\n",
        "for char in str2:\n",
        "    if char not in list2:\n",
        "        list2.append(char)\n",
        "        print(list2)\n",
        "        \n",
        "    "
      ]
    },
    {
      "cell_type": "markdown",
      "id": "a78d2c27",
      "metadata": {
        "id": "a78d2c27"
      },
      "source": [
        "### Python Program to check if a string contains any special character if present remove this special character"
      ]
    },
    {
      "cell_type": "code",
      "execution_count": null,
      "id": "968f2eb4",
      "metadata": {
        "id": "968f2eb4"
      },
      "outputs": [],
      "source": [
        "str1=input(\"Enter your string\")\n",
        "var=\"@,$,%,!,*,?,#\"\n",
        "for i in str1:\n",
        "    if var in i:\n",
        "        print(\"Special character present in your string\")\n",
        "    else:\n",
        "        print(\"No special character\")"
      ]
    },
    {
      "cell_type": "code",
      "execution_count": null,
      "id": "3913ed94",
      "metadata": {
        "id": "3913ed94"
      },
      "outputs": [],
      "source": [
        "str1=input(\"Enter your string\")\n",
        "Lowerc=0\n",
        "Upperc=0\n",
        "Digit=0\n",
        "Special=0\n",
        "\n",
        "for char in str1:\n",
        "    if char.islower():\n",
        "        Lowerc=Lowerc+1\n",
        "    elif char.isupper():\n",
        "        Upperc=Upperc+1\n",
        "    elif char.isdigit():\n",
        "        Digit=Digit+1\n",
        "    else:\n",
        "        Specialc=Specialc+1\n",
        "print(\"Lower Count :- \",Lowerc)\n",
        "print(\"Upper Count :- \",Upperc)\n",
        "print(\"Digit Count :- \",Digit)\n",
        "print(\"Special Count :- \",Specialc)\n",
        "        \n",
        "        \n",
        "        \n",
        "        \n"
      ]
    },
    {
      "cell_type": "code",
      "execution_count": null,
      "id": "f8dadb58",
      "metadata": {
        "id": "f8dadb58"
      },
      "outputs": [],
      "source": [
        ""
      ]
    }
  ],
  "metadata": {
    "kernelspec": {
      "display_name": "Python 3 (ipykernel)",
      "language": "python",
      "name": "python3"
    },
    "language_info": {
      "codemirror_mode": {
        "name": "ipython",
        "version": 3
      },
      "file_extension": ".py",
      "mimetype": "text/x-python",
      "name": "python",
      "nbconvert_exporter": "python",
      "pygments_lexer": "ipython3",
      "version": "3.9.7"
    },
    "colab": {
      "name": "Assignment_11.ipynb",
      "provenance": []
    }
  },
  "nbformat": 4,
  "nbformat_minor": 5
}